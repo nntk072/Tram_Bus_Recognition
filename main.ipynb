{
 "cells": [
  {
   "cell_type": "markdown",
   "metadata": {},
   "source": [
    "Downloading the necessary modules and libraries for the project."
   ]
  },
  {
   "cell_type": "code",
   "execution_count": 1,
   "metadata": {},
   "outputs": [],
   "source": [
    "# Using these lines in terminal and remember to set the environment variable to this ipynb file\n",
    "# conda create --name comp.sgn.120 python=3.7.11\n",
    "# conda activate comp.sgn.120\n",
    "# conda install ipython=7.31.1\n",
    "# conda install -c conda-forge ffmpeg\n",
    "\n",
    "# Uncomment these lines to install the required packages if you haven't already\n",
    "# !pip install pydub==0.25.1\n",
    "# !pip install librosa==0.10.1\n",
    "# !pip install scipy==1.7.3\n",
    "# !pip install matplotlib==3.5.3\n",
    "# !pip install soundfile==0.12.1\n",
    "# !pip install numpy==1.21.5\n",
    "# !pip install scikit-learn==1.0.2\n",
    "\n"
   ]
  },
  {
   "cell_type": "markdown",
   "metadata": {},
   "source": [
    "Necessary Modules and Libraries"
   ]
  },
  {
   "cell_type": "code",
   "execution_count": 14,
   "metadata": {},
   "outputs": [],
   "source": [
    "import os\n",
    "\n",
    "import numpy as np\n",
    "\n",
    "# Database loading and Feature extraction\n",
    "from pydub import AudioSegment\n",
    "import librosa as lb\n",
    "import librosa.display\n",
    "from scipy.signal import hamming, hann\n",
    "\n",
    "\n",
    "# Representation\n",
    "import IPython.display as ipd\n",
    "import matplotlib.pyplot as plt\n",
    "\n",
    "# Training and evaluating the model\n",
    "from sklearn.neighbors import KNeighborsClassifier\n",
    "from sklearn.pipeline import Pipeline\n",
    "from sklearn.preprocessing import StandardScaler\n",
    "from sklearn.model_selection import train_test_split\n",
    "from sklearn.metrics import accuracy_score\n",
    "\n",
    "from sklearn.model_selection import GridSearchCV\n",
    "from sklearn.decomposition import PCA\n",
    "\n",
    "from sklearn.svm import SVC\n"
   ]
  },
  {
   "cell_type": "markdown",
   "metadata": {},
   "source": [
    "Function for reading the data"
   ]
  },
  {
   "cell_type": "code",
   "execution_count": 3,
   "metadata": {},
   "outputs": [],
   "source": [
    "def readFolder(folder):\n",
    "    folder_names = []\n",
    "    for root, dirs, files in os.walk(folder):\n",
    "        for name in dirs:\n",
    "            folder_names.append(os.path.join(root, name))\n",
    "    return folder_names\n",
    "\n",
    "\n",
    "def readFileInFolder(folder):\n",
    "    file_lists = []\n",
    "    for root, dirs, files in os.walk(folder):\n",
    "        for name in files:\n",
    "            file_lists.append(os.path.join(root, name))\n",
    "    return file_lists"
   ]
  },
  {
   "cell_type": "markdown",
   "metadata": {},
   "source": [
    "Function for extracting the features"
   ]
  },
  {
   "cell_type": "code",
   "execution_count": 4,
   "metadata": {},
   "outputs": [],
   "source": [
    "def getMFCC(y, sr, n_mel=40, hop_size=128, n_fft=512):\n",
    "    mfcc = lb.feature.mfcc(\n",
    "        y=y, sr=sr, n_mfcc=n_mel, hop_length=hop_size, norm=\"ortho\", n_fft=n_fft\n",
    "    )\n",
    "    return mfcc\n",
    "\n",
    "\n",
    "def getMelSpectrogram(y, sr, n_mel=40, hop_size=128, n_fft=512):\n",
    "    mel = lb.feature.melspectrogram(\n",
    "        y=y, sr=sr, n_mels=n_mel, hop_length=hop_size, n_fft=n_fft\n",
    "    )\n",
    "    return mel"
   ]
  },
  {
   "cell_type": "markdown",
   "metadata": {},
   "source": [
    "Utilities for the project"
   ]
  },
  {
   "cell_type": "code",
   "execution_count": null,
   "metadata": {},
   "outputs": [],
   "source": [
    "def convert_to_labels(preds, i2c, k=3):\n",
    "    ans = []\n",
    "    ids = []\n",
    "    for p in preds:\n",
    "        idx = np.argsort(p)[::-1]\n",
    "        ids.append([i for i in idx[:k]])\n",
    "        ans.append(' '.join([i2c[i] for i in idx[:k]]))\n",
    "\n",
    "    return ans, ids"
   ]
  },
  {
   "cell_type": "markdown",
   "metadata": {},
   "source": [
    "Extract the data"
   ]
  },
  {
   "cell_type": "code",
   "execution_count": 5,
   "metadata": {},
   "outputs": [],
   "source": [
    "# Tram_Train: https://freesound.org/people/publictransport/packs/36726/\n",
    "# Tram_Train: https://freesound.org/people/ali.abdelsalam/packs/36722/\n",
    "# Bus_Train: https://freesound.org/people/emmakyllikki/packs/36810/\n",
    "# Bus_Train: https://freesound.org/people/glingden/packs/36807/\n",
    "# Tram_Test: My own recording\n",
    "# Bus_Test: My own recording\n",
    "folder_list = readFolder(\"audio\")\n",
    "folder_to_read = [\"Bus_Test\", \"Bus_Train\", \"Tram_Test\", \"Tram_Train\"]\n",
    "bus_test = []\n",
    "bus_train = []\n",
    "tram_test = []\n",
    "tram_train = []\n",
    "label = {}\n",
    "for folder in folder_list:\n",
    "    # Read all the files and append to the list of files\n",
    "    files = readFileInFolder(folder)\n",
    "    for name in folder_to_read:\n",
    "        if name in folder:\n",
    "            # Append the files to the corresponding list\n",
    "            if name == \"Bus_Test\":\n",
    "                bus_test = files\n",
    "                for file in files:\n",
    "                    label[file] = \"bus\"\n",
    "            elif name == \"Bus_Train\":\n",
    "                bus_train = files\n",
    "                for file in files:\n",
    "                    label[file] = \"bus\"\n",
    "            elif name == \"Tram_Test\":\n",
    "                tram_test = files\n",
    "                for file in files:\n",
    "                    label[file] = \"tram\"\n",
    "            elif name == \"Tram_Train\":\n",
    "                tram_train = files\n",
    "                for file in files:\n",
    "                    label[file] = \"tram\""
   ]
  },
  {
   "cell_type": "code",
   "execution_count": 6,
   "metadata": {},
   "outputs": [],
   "source": [
    "# Read the audio files\n",
    "bus_test_audio = []\n",
    "bus_train_audio = []\n",
    "tram_test_audio = []\n",
    "tram_train_audio = []\n",
    "for file in bus_train:\n",
    "    y, sr = lb.load(file, sr=None)\n",
    "    bus_train_audio.append((y, sr))\n",
    "for file in tram_train:\n",
    "    y, sr = lb.load(file, sr=None)\n",
    "    tram_train_audio.append((y, sr))\n",
    "\n",
    "# Read the audio files in m4a format\n",
    "for file in bus_test:\n",
    "    sound = AudioSegment.from_file(file, format=\"m4a\")\n",
    "    sound.export(\"temp.wav\", format=\"wav\")\n",
    "    y, sr = lb.load(\"temp.wav\", sr=None)\n",
    "    bus_test_audio.append((y, sr))\n",
    "    os.remove(\"temp.wav\")\n",
    "for file in tram_test:\n",
    "    sound = AudioSegment.from_file(file, format=\"m4a\")\n",
    "    sound.export(\"temp.wav\", format=\"wav\")\n",
    "    y, sr = lb.load(\"temp.wav\", sr=None)\n",
    "    tram_test_audio.append((y, sr))\n",
    "    os.remove(\"temp.wav\")"
   ]
  },
  {
   "cell_type": "code",
   "execution_count": 7,
   "metadata": {},
   "outputs": [
    {
     "name": "stdout",
     "output_type": "stream",
     "text": [
      "Number of bus train audio files:  39\n",
      "Number of tram train audio files:  59\n",
      "Number of bus test audio files:  10\n",
      "Number of tram test audio files:  8\n"
     ]
    }
   ],
   "source": [
    "print(\"Number of bus train audio files: \", len(bus_train_audio))\n",
    "print(\"Number of tram train audio files: \", len(tram_train_audio))\n",
    "print(\"Number of bus test audio files: \", len(bus_test_audio))\n",
    "print(\"Number of tram test audio files: \", len(tram_test_audio))\n"
   ]
  },
  {
   "cell_type": "code",
   "execution_count": null,
   "metadata": {},
   "outputs": [],
   "source": []
  }
 ],
 "metadata": {
  "kernelspec": {
   "display_name": "Python 3",
   "language": "python",
   "name": "python3"
  },
  "language_info": {
   "codemirror_mode": {
    "name": "ipython",
    "version": 3
   },
   "file_extension": ".py",
   "mimetype": "text/x-python",
   "name": "python",
   "nbconvert_exporter": "python",
   "pygments_lexer": "ipython3",
   "version": "3.7.11"
  }
 },
 "nbformat": 4,
 "nbformat_minor": 2
}
