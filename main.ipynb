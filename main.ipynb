{
 "cells": [
  {
   "cell_type": "markdown",
   "metadata": {},
   "source": [
    "Downloading the necessary modules and libraries for the project."
   ]
  },
  {
   "cell_type": "code",
   "execution_count": null,
   "metadata": {},
   "outputs": [],
   "source": [
    "# Using these lines in terminal and remember to set the environment variable to this ipynb file\n",
    "# conda create --name comp.sgn.120 python=3.11.3\n",
    "# conda activate comp.sgn.120\n",
    "# conda install numpy=1.26.2\n",
    "# pip install ipykernel --upgrade\n",
    "# conda install -c conda-forge ffmpeg\n",
    "\n",
    "# Uncomment these lines to install the required packages if you haven't already\n",
    "# !pip install pydub==0.25.1\n",
    "# !pip install tqdm==4.66.1\n",
    "# !pip install librosa==0.10.1\n",
    "# !pip install matplotlib==3.7.2\n",
    "# !pip install scikit-learn==1.3.2\n",
    "# !pip install scipy==1.11.4 \n",
    "# !pip install pandas==2.1.4\n"
   ]
  },
  {
   "cell_type": "markdown",
   "metadata": {},
   "source": [
    "Necessary Modules and Libraries"
   ]
  },
  {
   "cell_type": "code",
   "execution_count": null,
   "metadata": {},
   "outputs": [],
   "source": [
    "import os\n",
    "\n",
    "import numpy as np\n",
    "import pandas as pd\n",
    "from tqdm import tqdm, tqdm_pandas\n",
    "tqdm.pandas()\n",
    "\n",
    "# Database loading and Feature extraction\n",
    "from pydub import AudioSegment\n",
    "import librosa as lb\n",
    "import librosa.display\n",
    "from scipy.stats import skew\n",
    "from scipy.signal import hamming, hann\n",
    "\n",
    "\n",
    "# Representation\n",
    "import IPython.display as ipd\n",
    "import matplotlib.pyplot as plt\n",
    "\n",
    "# Training and evaluating the model\n",
    "from sklearn.neighbors import KNeighborsClassifier\n",
    "from sklearn.pipeline import Pipeline\n",
    "from sklearn.preprocessing import StandardScaler\n",
    "from sklearn.model_selection import train_test_split\n",
    "from sklearn.metrics import accuracy_score\n",
    "\n",
    "from sklearn.model_selection import GridSearchCV\n",
    "from sklearn.decomposition import PCA\n",
    "\n",
    "from sklearn.inspection import DecisionBoundaryDisplay\n",
    "\n",
    "from sklearn.svm import SVC\n",
    "\n"
   ]
  },
  {
   "cell_type": "markdown",
   "metadata": {},
   "source": [
    "Function for reading the data"
   ]
  },
  {
   "cell_type": "code",
   "execution_count": null,
   "metadata": {},
   "outputs": [],
   "source": [
    "def readFolder(folder):\n",
    "    folder_names = []\n",
    "    for root, dirs, files in os.walk(folder):\n",
    "        for name in dirs:\n",
    "            folder_names.append(os.path.join(root, name))\n",
    "    return folder_names\n",
    "\n",
    "\n",
    "def readFileInFolder(folder):\n",
    "    file_lists = []\n",
    "    for root, dirs, files in os.walk(folder):\n",
    "        for name in files:\n",
    "            file_lists.append(os.path.join(root, name))\n",
    "    return file_lists"
   ]
  },
  {
   "cell_type": "markdown",
   "metadata": {},
   "source": [
    "Function for extracting the features"
   ]
  },
  {
   "cell_type": "code",
   "execution_count": null,
   "metadata": {},
   "outputs": [],
   "source": [
    "# def getMFCC(y, sr, n_mel=40, hop_size=128, n_fft=512):\n",
    "#     mfcc = lb.feature.mfcc(\n",
    "#         y=y, sr=sr, n_mfcc=n_mel, hop_length=hop_size, norm=\"ortho\", n_fft=n_fft\n",
    "#     )\n",
    "#     return mfcc\n",
    "\n",
    "\n",
    "def getMFCC(name, path):\n",
    "    n_mel=40\n",
    "    hop_size=128\n",
    "    n_fft=512\n",
    "    data, _ = librosa.core.load(name, sr = None)\n",
    "    try:\n",
    "        ft1 = lb.feature.mfcc(y= data, n_mfcc=n_mel, hop_length=hop_size, norm=\"ortho\", n_fft=n_fft)\n",
    "        ft2 = librosa.feature.zero_crossing_rate(y = data)[0]\n",
    "        ft3 = librosa.feature.spectral_rolloff(y= data)[0]\n",
    "        ft4 = librosa.feature.spectral_centroid(y = data)[0]\n",
    "        ft5 = librosa.feature.spectral_contrast(y = data)[0]\n",
    "        ft6 = librosa.feature.spectral_bandwidth(y = data)[0]\n",
    "        ft1_trunc = np.hstack((np.mean(ft1, axis=1), np.std(ft1, axis=1), skew(ft1, axis = 1), np.max(ft1, axis = 1), np.median(ft1, axis = 1), np.min(ft1, axis = 1)))\n",
    "        ft2_trunc = np.hstack((np.mean(ft2), np.std(ft2), skew(ft2), np.max(ft2), np.median(ft2), np.min(ft2)))\n",
    "        ft3_trunc = np.hstack((np.mean(ft3), np.std(ft3), skew(ft3), np.max(ft3), np.median(ft3), np.min(ft3)))\n",
    "        ft4_trunc = np.hstack((np.mean(ft4), np.std(ft4), skew(ft4), np.max(ft4), np.median(ft4), np.min(ft4)))\n",
    "        ft5_trunc = np.hstack((np.mean(ft5), np.std(ft5), skew(ft5), np.max(ft5), np.median(ft5), np.min(ft5)))\n",
    "        ft6_trunc = np.hstack((np.mean(ft6), np.std(ft6), skew(ft6), np.max(ft6), np.median(ft6), np.max(ft6)))\n",
    "        return pd.Series(np.hstack((ft1_trunc, ft2_trunc, ft3_trunc, ft4_trunc, ft5_trunc, ft6_trunc)))\n",
    "    except:\n",
    "        print('bad file')\n",
    "        return pd.Series([0]*210)\n",
    "\n",
    "\n",
    "def getMelSpectrogram(y, sr, n_mel=40, hop_size=128, n_fft=512):\n",
    "    mel = lb.feature.melspectrogram(\n",
    "        y=y, sr=sr, n_mels=n_mel, hop_length=hop_size, n_fft=n_fft\n",
    "    )\n",
    "    return mel"
   ]
  },
  {
   "cell_type": "markdown",
   "metadata": {},
   "source": [
    "Utilities for the project"
   ]
  },
  {
   "cell_type": "code",
   "execution_count": null,
   "metadata": {},
   "outputs": [],
   "source": [
    "def convert_to_labels(preds, i2c, k=2):\n",
    "    \"\"\"\n",
    "    :param preds: list of predictions\n",
    "    :param i2c: index to class dictionary\n",
    "    :param k: number of predictions to convert\n",
    "    :return: list of converted predictions\n",
    "    \n",
    "    \"\"\"\n",
    "    ans = [] # list of converted predictions\n",
    "    ids = [] # list of ids of converted predictions\n",
    "    for p in preds:\n",
    "        idx = np.argsort(p)[::-1]\n",
    "        ids.append([i for i in idx[:k]])\n",
    "        ans.append(' '.join([i2c[i] for i in idx[:k]]))\n",
    "    # Convert the ans into a list of 1 value, which is higer probability\n",
    "    for i in range(len(ans)):\n",
    "        ans[i] = ans[i].split(' ')[0]\n",
    "        \n",
    "        \n",
    "    return ans, ids"
   ]
  },
  {
   "cell_type": "markdown",
   "metadata": {},
   "source": [
    "Data preprocessing"
   ]
  },
  {
   "cell_type": "code",
   "execution_count": null,
   "metadata": {},
   "outputs": [],
   "source": [
    "# Tram_Train: https://freesound.org/people/publictransport/packs/36726/\n",
    "# Tram_Train: https://freesound.org/people/ali.abdelsalam/packs/36722/\n",
    "# Bus_Train: https://freesound.org/people/emmakyllikki/packs/36810/\n",
    "# Bus_Train: https://freesound.org/people/glingden/packs/36807/\n",
    "# Tram_Test: My own recording\n",
    "# Bus_Test: My own recording\n",
    "folder_list = readFolder(\"audio\")\n",
    "folder_to_read = [\"Bus_Test\", \"Bus_Train\", \"Tram_Test\", \"Tram_Train\"]\n",
    "bus_test = []\n",
    "bus_train = []\n",
    "tram_test = []\n",
    "tram_train = []\n",
    "label = {}\n",
    "for folder in folder_list:\n",
    "    # Read all the files and append to the list of files\n",
    "    files = readFileInFolder(folder)\n",
    "    for name in folder_to_read:\n",
    "        if name in folder:\n",
    "            # Append the files to the corresponding list\n",
    "            if name == \"Bus_Test\":\n",
    "                bus_test = files\n",
    "                for file in files:\n",
    "                    label[file] = \"bus\"\n",
    "            elif name == \"Bus_Train\":\n",
    "                bus_train = files\n",
    "                for file in files:\n",
    "                    label[file] = \"bus\"\n",
    "            elif name == \"Tram_Test\":\n",
    "                tram_test = files\n",
    "                for file in files:\n",
    "                    label[file] = \"tram\"\n",
    "            elif name == \"Tram_Train\":\n",
    "                tram_train = files\n",
    "                for file in files:\n",
    "                    label[file] = \"tram\""
   ]
  },
  {
   "cell_type": "code",
   "execution_count": null,
   "metadata": {},
   "outputs": [],
   "source": [
    "# Read the audio files\n",
    "bus_test_audio = []\n",
    "bus_train_audio = []\n",
    "tram_test_audio = []\n",
    "tram_train_audio = []\n",
    "for file in bus_train:\n",
    "    y, sr = lb.load(file, sr=None)\n",
    "    bus_train_audio.append((y, sr))\n",
    "for file in tram_train:\n",
    "    y, sr = lb.load(file, sr=None)\n",
    "    tram_train_audio.append((y, sr))\n",
    "\n",
    "# Read the audio files in m4a format\n",
    "for file in bus_test:\n",
    "    sound = AudioSegment.from_file(file, format=\"m4a\")\n",
    "    sound.export(\"temp.wav\", format=\"wav\")\n",
    "    y, sr = lb.load(\"temp.wav\", sr=None)\n",
    "    bus_test_audio.append((y, sr))\n",
    "    os.remove(\"temp.wav\")\n",
    "for file in tram_test:\n",
    "    sound = AudioSegment.from_file(file, format=\"m4a\")\n",
    "    sound.export(\"temp.wav\", format=\"wav\")\n",
    "    y, sr = lb.load(\"temp.wav\", sr=None)\n",
    "    tram_test_audio.append((y, sr))\n",
    "    os.remove(\"temp.wav\")"
   ]
  },
  {
   "cell_type": "code",
   "execution_count": null,
   "metadata": {},
   "outputs": [],
   "source": [
    "print(\"Number of bus train audio files: \", len(bus_train_audio))\n",
    "print(\"Number of tram train audio files: \", len(tram_train_audio))\n",
    "print(\"Number of bus test audio files: \", len(bus_test_audio))\n",
    "print(\"Number of tram test audio files: \", len(tram_test_audio))\n"
   ]
  },
  {
   "cell_type": "code",
   "execution_count": null,
   "metadata": {},
   "outputs": [],
   "source": [
    "# Prepare Data\n",
    "train_data = pd.DataFrame()\n",
    "train_data[\"fname\"] = bus_train + tram_train\n",
    "test_data = pd.DataFrame()\n",
    "test_data[\"fname\"] = bus_test + tram_test\n",
    "\n",
    "train_data = train_data[\"fname\"].progress_apply(getMFCC, path = None)\n",
    "print(\"done loading train mfcc\")\n",
    "test_data = test_data[\"fname\"].progress_apply(getMFCC, path = None)\n",
    "print(\"done loading test mfcc\")\n"
   ]
  },
  {
   "cell_type": "code",
   "execution_count": null,
   "metadata": {},
   "outputs": [],
   "source": [
    "train_data[\"fname\"] = bus_train + tram_train\n",
    "train_data[\"label\"] = train_data[\"fname\"].apply(lambda x: label[x])\n",
    "\n",
    "print(\"Train data:\")\n",
    "# print(train_data)\n"
   ]
  },
  {
   "cell_type": "code",
   "execution_count": null,
   "metadata": {},
   "outputs": [],
   "source": [
    "test_data[\"fname\"] = bus_test + tram_test\n",
    "test_data[\"label\"] = test_data[\"fname\"].apply(lambda x: label[x])\n",
    "\n",
    "print(\"Test data:\")\n",
    "# print(test_data)"
   ]
  },
  {
   "cell_type": "code",
   "execution_count": null,
   "metadata": {},
   "outputs": [],
   "source": [
    "# Functions from Random Foresth using MFCC ttps://www.kaggle.com/amlanpraharaj/random-forest-using-mfcc-features\n",
    "X = train_data.drop(['label', 'fname'], axis=1)\n",
    "feature_names = list(X.columns)\n",
    "X = X.values\n",
    "\n",
    "labels = np.sort(np.unique(train_data.label.values))\n",
    "\n",
    "num_class = len(labels)\n",
    "c2i = {}\n",
    "i2c = {}\n",
    "for i, c in enumerate(labels):\n",
    "    c2i[c] = i\n",
    "    i2c[i] = c\n",
    "y = np.array([c2i[x] for x in train_data.label.values])\n",
    "X_test = test_data.drop(['label', 'fname'], axis=1).values\n",
    "y_test = np.array([c2i[x] for x in test_data.label.values])\n"
   ]
  },
  {
   "cell_type": "code",
   "execution_count": null,
   "metadata": {},
   "outputs": [],
   "source": [
    "# Apply scaling for PCA\n",
    "scaler = StandardScaler()\n",
    "X_scaled = scaler.fit_transform(X)\n",
    "X_test_scaled = scaler.transform(X_test)"
   ]
  },
  {
   "cell_type": "code",
   "execution_count": null,
   "metadata": {},
   "outputs": [],
   "source": [
    "# Apply PCA for dimension reduction\n",
    "pca = PCA(n_components=65).fit(X_scaled)\n",
    "X_pca = pca.transform(X_scaled)\n",
    "X_test_pca = pca.transform(X_test_scaled)\n",
    "\n",
    "print(sum(pca.explained_variance_ratio_)) "
   ]
  },
  {
   "cell_type": "code",
   "execution_count": null,
   "metadata": {},
   "outputs": [],
   "source": [
    "# Build a KNN model\n",
    "X_train, X_val, y_train, y_val = train_test_split(X_pca, y, test_size = 0.2, random_state = 42, shuffle = True)\n",
    "\n",
    "# clf = SVC(kernel = 'rbf', probability=True)\n",
    "# clf.fit(X_train, y_train)\n",
    "\n",
    "clf = Pipeline(\n",
    "    steps=[(\"scaler\", StandardScaler()), (\"knn\", KNeighborsClassifier(n_neighbors=2))]\n",
    ")\n",
    "clf.fit(X_train, y_train)\n",
    "\n",
    "\n",
    "\n",
    "print(accuracy_score(clf.predict(X_val), y_val))\n"
   ]
  },
  {
   "cell_type": "code",
   "execution_count": null,
   "metadata": {},
   "outputs": [],
   "source": [
    "# Test the model with the test data\n",
    "print(accuracy_score(clf.predict(X_test_pca), y_test))\n"
   ]
  },
  {
   "cell_type": "code",
   "execution_count": null,
   "metadata": {},
   "outputs": [],
   "source": [
    "# Define the paramter grid for C from 0.001 to 10, gamma from 0.001 to 10\n",
    "# C_grid = [0.001, 0.01, 0.1, 1, 10]\n",
    "# gamma_grid = [0.001, 0.01, 0.1, 1, 10]\n",
    "# param_grid = {'C': C_grid, 'gamma' : gamma_grid}\n",
    "\n",
    "# grid = GridSearchCV(SVC(kernel='rbf'), param_grid, cv = 3, scoring = \"accuracy\")\n",
    "# grid.fit(X_train, y_train)\n",
    "\n",
    "# # Find the best model\n",
    "# print(grid.best_score_)\n",
    "\n",
    "# print(grid.best_params_)\n",
    "\n",
    "# print(grid.best_estimator_)"
   ]
  },
  {
   "cell_type": "code",
   "execution_count": null,
   "metadata": {},
   "outputs": [],
   "source": [
    "# Fit the entire training sets\n",
    "# clf.fit(X_pca, y)\n",
    "# str_preds, _ = convert_to_labels(clf.predict_proba(X_test_pca), i2c, k=2)\n",
    "\n",
    "# # Write to outputs\n",
    "# subm = pd.DataFrame()\n",
    "# # subm['fname'] = audio_test_files\n",
    "# # subm['label'] = str_preds\n",
    "# subm['fname'] = test_data[\"fname\"]\n",
    "# subm['label'] = str_preds\n",
    "# subm.to_csv('submission.csv', index=False)"
   ]
  }
 ],
 "metadata": {
  "kernelspec": {
   "display_name": "Python 3",
   "language": "python",
   "name": "python3"
  },
  "language_info": {
   "codemirror_mode": {
    "name": "ipython",
    "version": 3
   },
   "file_extension": ".py",
   "mimetype": "text/x-python",
   "name": "python",
   "nbconvert_exporter": "python",
   "pygments_lexer": "ipython3",
   "version": "3.11.6"
  }
 },
 "nbformat": 4,
 "nbformat_minor": 2
}
