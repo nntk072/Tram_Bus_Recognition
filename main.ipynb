{
 "cells": [
  {
   "cell_type": "code",
   "execution_count": null,
   "metadata": {},
   "outputs": [],
   "source": [
    "import os\n",
    "import librosa\n",
    "import IPython.display as ipd\n",
    "import numpy as np\n",
    "import matplotlib.pyplot as plt"
   ]
  },
  {
   "cell_type": "code",
   "execution_count": null,
   "metadata": {},
   "outputs": [],
   "source": [
    "def read_folder(folder):\n",
    "    folder_names=[]\n",
    "    for root, dirs, files in os.walk(folder):\n",
    "        for name in dirs:\n",
    "            folder_names.append(os.path.join(root, name))\n",
    "    return folder_names"
   ]
  },
  {
   "cell_type": "code",
   "execution_count": null,
   "metadata": {},
   "outputs": [],
   "source": [
    "def read_file_in_folder(folder):\n",
    "    file_lists = []\n",
    "    for root, dirs, files in os.walk(folder):\n",
    "        for name in files:\n",
    "            file_lists.append(os.path.join(root, name))\n",
    "    return file_lists"
   ]
  },
  {
   "cell_type": "code",
   "execution_count": null,
   "metadata": {},
   "outputs": [],
   "source": [
    "# Tram_Train: https://freesound.org/people/publictransport/packs/36726/\n",
    "# Tram_Train: https://freesound.org/people/ali.abdelsalam/packs/36722/\n",
    "# Bus_Train: https://freesound.org/people/emmakyllikki/packs/36810/\n",
    "# Bus_Test: https://freesound.org/people/glingden/packs/36807/\n",
    "folder_list = read_folder(\"audio\")\n",
    "# Change with your own directory\n",
    "folder_to_read = [\n",
    "    \"Bus_Test\",\n",
    "    \"Bus_Train\",\n",
    "    \"Tram_Test\",\n",
    "    \"Tram_Train\"\n",
    "]\n",
    "print(folder_list)\n",
    "bus_test = []\n",
    "bus_train = []\n",
    "tram_test = []\n",
    "tram_train = []\n",
    "for folder in folder_list:\n",
    "    # Read all the files and append to the list of files\n",
    "    files = read_file_in_folder(folder)\n",
    "    # print(files)\n",
    "    # Check if the name of the folder matches the name of the folder to read (some words)\n",
    "    for name in folder_to_read:\n",
    "        if name in folder:\n",
    "            # Append the files to the corresponding list\n",
    "            if name == \"Bus_Test\":\n",
    "                bus_test = files\n",
    "            elif name == \"Bus_Train\":\n",
    "                bus_train = files\n",
    "            elif name == \"Tram_Test\":\n",
    "                tram_test = files\n",
    "            elif name == \"Tram_Train\":\n",
    "                tram_train = files\n",
    "print(bus_train)\n",
    "print(bus_test)\n",
    "print(tram_train)\n",
    "print(tram_test)\n"
   ]
  },
  {
   "cell_type": "code",
   "execution_count": null,
   "metadata": {},
   "outputs": [],
   "source": [
    "# using the librosa library to read the audio files and the ipd to demonstrate the audio\n",
    "# for i in tram_train:\n",
    "#     x, sr = librosa.load(i, sr = None)\n",
    "#     print(x.shape)\n",
    "    # ipd.display(ipd.Audio(x, rate=sr))\n"
   ]
  }
 ],
 "metadata": {
  "kernelspec": {
   "display_name": "Python 3",
   "language": "python",
   "name": "python3"
  },
  "language_info": {
   "codemirror_mode": {
    "name": "ipython",
    "version": 3
   },
   "file_extension": ".py",
   "mimetype": "text/x-python",
   "name": "python",
   "nbconvert_exporter": "python",
   "pygments_lexer": "ipython3",
   "version": "3.11.3"
  }
 },
 "nbformat": 4,
 "nbformat_minor": 2
}
